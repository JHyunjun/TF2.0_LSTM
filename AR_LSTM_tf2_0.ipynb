{
  "nbformat": 4,
  "nbformat_minor": 0,
  "metadata": {
    "colab": {
      "name": "AR_LSTM_tf2_0.ipynb",
      "private_outputs": true,
      "provenance": [],
      "collapsed_sections": [],
      "include_colab_link": true
    },
    "kernelspec": {
      "name": "python3",
      "display_name": "Python 3"
    },
    "language_info": {
      "name": "python"
    },
    "accelerator": "GPU"
  },
  "cells": [
    {
      "cell_type": "markdown",
      "metadata": {
        "id": "view-in-github",
        "colab_type": "text"
      },
      "source": [
        "<a href=\"https://colab.research.google.com/github/JHyunjun/TF2.0_LSTM/blob/main/AR_LSTM_tf2_0.ipynb\" target=\"_parent\"><img src=\"https://colab.research.google.com/assets/colab-badge.svg\" alt=\"Open In Colab\"/></a>"
      ]
    },
    {
      "cell_type": "code",
      "execution_count": null,
      "metadata": {
        "id": "44UfphRUC9Gb"
      },
      "outputs": [],
      "source": [
        "# Created by Hyunjun, JANG\n",
        "# limitsinx.tistory.com\n",
        "\n",
        "import numpy as np\n",
        "import pandas as pd\n",
        "import tensorflow as tf\n",
        "import pandas_datareader.data as pdr\n",
        "import matplotlib.pyplot as plt\n",
        "import datetime\n",
        "tf.random.set_seed(1)\n",
        "\n",
        "\n",
        "#Data Load\n",
        "df_train = pd.read_csv('/content/drive/MyDrive/Colab Notebooks/Data/Batt/train_v.txt')\n",
        "df_test = pd.read_csv('/content/drive/MyDrive/Colab Notebooks/Data/Batt/test_v.txt')\n",
        "train_data = df_train.iloc[:,:]\n",
        "test_data = df_test.iloc[:,:]\n",
        "ar_train_data = df_train\n",
        "ar_test_data = df_test\n",
        "testify = len(ar_test_data)/2\n",
        "testify = np.int(testify)\n",
        "print(testify)\n",
        "ar_train_data_X = df_train.iloc[:len(ar_train_data):,-3]\n",
        "ar_train_data_Y = df_train.iloc[:len(ar_train_data):,-3]\n",
        "ar_test_data_X = df_test.iloc[:len(ar_test_data),-3]\n",
        "ar_test_data_Y = df_test.iloc[:len(ar_test_data):,-3]\n",
        "\n",
        "ar_test_data_X_testify = df_test.iloc[:testify,-3]\n",
        "ar_test_data_Y_testify = df_test.iloc[testify:,-3]\n",
        "ar_test_data_X_testify_original = ar_test_data_X_testify\n",
        "ar_test_data_Y_testify_original = ar_test_data_Y_testify\n",
        "\n",
        "print(ar_test_data_X_testify)\n",
        "print(ar_test_data_Y_testify)\n",
        "print(testify)"
      ]
    },
    {
      "cell_type": "code",
      "source": [
        "from google.colab import drive\n",
        "drive.mount('/content/drive')"
      ],
      "metadata": {
        "id": "NzLNP7qANctb"
      },
      "execution_count": null,
      "outputs": []
    },
    {
      "cell_type": "code",
      "source": [
        "#Normalization\n",
        "def MinMaxScaler(data):\n",
        "  denom = np.max(data,0) - np.min(data,0)\n",
        "  nume = data-np.min(data,0)\n",
        "  return nume/denom\n",
        "\n",
        "def back_MinMax(data,max,min):\n",
        "  diff = max-min\n",
        "  back = data * diff + min\n",
        "  return back"
      ],
      "metadata": {
        "id": "3gxSIbYyEi6c"
      },
      "execution_count": null,
      "outputs": []
    },
    {
      "cell_type": "code",
      "source": [
        "#Hyper parameters\n",
        "seqLength = 30\n",
        "dataDim = df_test.shape[1]\n",
        "outputDim = 1\n",
        "hiddenDim = 10\n",
        "lr = 0.002\n",
        "iterations = 30\n",
        "batch_size = 16\n",
        "\n",
        "trainX_max = np.max(ar_train_data_X)\n",
        "trainY_max = np.max(ar_train_data_Y)\n",
        "trainX_min = np.min(ar_train_data_X)\n",
        "trainY_min = np.min(ar_train_data_Y)\n",
        "\n",
        "testX_max = np.max(ar_test_data_X)\n",
        "testY_max = np.max(ar_test_data_Y)\n",
        "testX_min = np.min(ar_test_data_X)\n",
        "testY_min = np.min(ar_test_data_Y)\n",
        "\n",
        "ar_train_data_X = MinMaxScaler(ar_train_data_X)\n",
        "ar_train_data_Y = MinMaxScaler(ar_train_data_Y)\n",
        "\n",
        "ar_test_data_X = MinMaxScaler(ar_test_data_X)\n",
        "ar_test_data_Y = MinMaxScaler(ar_test_data_Y)\n",
        "\n",
        "ar_test_data_X_testify = ar_test_data_X[:testify]\n",
        "ar_test_data_Y_testify = ar_test_data_Y[testify:]\n",
        "\n",
        "#print(ar_test_data_X_testify.shape)\n",
        "#print(ar_test_data_Y_testify.shape)\n",
        "\n",
        "#print(testY_max)\n",
        "\n",
        "print(ar_train_data_X.shape)\n",
        "print(ar_train_data_X)\n",
        "print(ar_test_data_X.shape)\n",
        "print(testX_max)"
      ],
      "metadata": {
        "id": "OjbFMLlfE_20"
      },
      "execution_count": null,
      "outputs": []
    },
    {
      "cell_type": "code",
      "source": [
        "#Data Windowing\n",
        "def sliding_window(time_series, seq_length):\n",
        "    dataX = []\n",
        "    dataY = []\n",
        "    for i in range(0, len(time_series) - seq_length - 1) : \n",
        "        if i%1000 == 0 : print(i)\n",
        "        _x = time_series.iloc[i:i + seq_length,]\n",
        "        _y = time_series.iloc[i + seq_length + 1 , ]  \n",
        "        #print(_x, \"->\", _y)\n",
        "        dataX.append(_x)\n",
        "        dataY.append(_y)\n",
        "    return np.array(dataX), np.array(dataY)\n",
        "\n",
        "trainX, trainY = sliding_window(ar_train_data_X, seqLength)\n",
        "testX, testY = sliding_window(ar_test_data_X, seqLength)\n",
        "\n",
        "print(\"Finished\")\n"
      ],
      "metadata": {
        "id": "EA-xTsJLG34M"
      },
      "execution_count": null,
      "outputs": []
    },
    {
      "cell_type": "code",
      "source": [
        "## Stacked LSTM Modeling\n",
        "# Return Sequences is very important for stacking\n",
        "# This means weather output is Sequence of this layer or all of sequences\n",
        "# Activation function \"tanh\" : Glorot normal initializer\n",
        "# Activation function \"reLU\" : He Initiailizer\n",
        "from tensorflow import keras\n",
        "from tensorflow.keras import layers\n",
        "\n",
        "initializer = tf.keras.initializers.GlorotNormal()\n",
        "input_dim = 1\n",
        "output_dim = input_dim\n",
        "model = keras.Sequential()\n",
        "model.add(layers.LSTM(units = hiddenDim, activation='tanh',input_shape = (seqLength,input_dim), return_sequences = True, kernel_initializer = initializer))\n",
        "model.add(layers.LSTM(units = hiddenDim, activation='tanh', return_sequences = False, kernel_initializer = initializer))\n",
        "model.add(layers.Dense(outputDim, activation='linear'))\n",
        "adam = keras.optimizers.Adam(lr = lr)\n",
        "model.compile(optimizer=adam, loss='mse')\n",
        "model.summary()\n"
      ],
      "metadata": {
        "id": "dpgI1N9ZW1P0"
      },
      "execution_count": null,
      "outputs": []
    },
    {
      "cell_type": "code",
      "source": [
        "# Training\n",
        "print(trainX.shape)\n",
        "print(trainY.shape)\n",
        "hist = model.fit(trainX, trainY, epochs = iterations, batch_size = batch_size)"
      ],
      "metadata": {
        "id": "xjIIZqBue38u"
      },
      "execution_count": null,
      "outputs": []
    },
    {
      "cell_type": "code",
      "source": [
        "# Evaluate Testset\n",
        "res = model.evaluate(testX, testY, batch_size = batch_size)\n",
        "print(res)\n",
        "#res_batch_size1 = model.evaluate(testX, testY, batch_size = 1) #Very Slow\n"
      ],
      "metadata": {
        "id": "kQ-hAfInm4nL"
      },
      "execution_count": null,
      "outputs": []
    },
    {
      "cell_type": "code",
      "source": [
        "# Estimating\n",
        "xhat = testX\n",
        "print(\"Xhat : \",xhat.shape)\n",
        "yhat = model.predict(xhat)\n",
        "print(\"Yhat : \",yhat.shape)\n",
        "print(testY)\n",
        "print(yhat)\n",
        "\n",
        "print(\"Evaluate : {}\".format(np.sqrt(np.average((yhat - testY)**2))))"
      ],
      "metadata": {
        "id": "zyDqzwynn_I1"
      },
      "execution_count": null,
      "outputs": []
    },
    {
      "cell_type": "code",
      "source": [
        "#Estimating\n",
        "estimated = back_MinMax(yhat,testX_max,testX_min) \n",
        "real = back_MinMax(testY, testY_max,testY_min)"
      ],
      "metadata": {
        "id": "QQ5woOSHrrmk"
      },
      "execution_count": null,
      "outputs": []
    },
    {
      "cell_type": "code",
      "source": [
        "plt.figure()\n",
        "plt.plot(estimated[:len(estimated)],label = \"Estimated by Stacked LSTM\")\n",
        "plt.plot(real[:len(real)], label = \"Real\")\n",
        "plt.legend(prop = {'size':10})\n",
        "\n",
        "print(\"Estimated : \",estimated.shape,estimated)\n",
        "print(\"Real : \",real.shape, real)\n",
        "\n",
        "plt.figure()\n",
        "plt.plot(estimated[:len(estimated)],label = \"Estimated by Stacked LSTM\")\n",
        "plt.legend(prop = {'size':10})\n",
        "\n",
        "plt.figure()\n",
        "plt.plot(real[:len(real)], label = \"Real\")\n",
        "plt.legend(prop = {'size':10})\n"
      ],
      "metadata": {
        "id": "U__JUtnEzkRJ"
      },
      "execution_count": null,
      "outputs": []
    },
    {
      "cell_type": "code",
      "source": [
        "#Forecasting\n",
        "forecasting_time = 3000\n",
        "#input = ar_test_data_X_testify[len(ar_test_data_X_testify) - seqLength:len(ar_test_data_X_testify)]\n",
        "input = ar_test_data_X_testify[testify - seqLength:testify]\n",
        "input = input.values.reshape(1,-1)\n",
        "new1 = input\n",
        "new_feedback1 = new1\n",
        "new_feedback = new_feedback1\n",
        "print(\"Testify : \",testify)\n",
        "print(input)\n",
        "\n",
        "#print(\"Testify : \",testify)\n",
        "#TT = ar_test_data_X_testify_original[len(ar_test_data_X_testify) - seqLength:len(ar_test_data_X_testify)]\n",
        "#print(\"TT : \",TT)\n",
        "forecasted = []\n",
        "\n",
        "def forecast(forecasting_time) : \n",
        "  global forecasted\n",
        "  global new_feedback\n",
        "  for i in range(0, forecasting_time) : \n",
        "\n",
        "    new = model.predict(new_feedback)\n",
        "    #print(\"new_feedback_before : \",new_feedback)\n",
        "\n",
        "    for j in range(1,seqLength) : \n",
        "      new_feedback[0,j-1] = new_feedback[0,j] \n",
        "\n",
        "    new_feedback[0,seqLength-1] = new\n",
        "    #print(\"new_feedback_after : \",new_feedback)\n",
        "\n",
        "    forecasted = np.append(forecasted, new)\n",
        "    #print(i,\"Next\")\n",
        "  return np.array(forecasted)\n",
        "\n",
        "forecasting_result = forecast(forecasting_time)\n",
        "#print(\"forecasting_result : \",forecasting_result)\n",
        "forecasting_result = back_MinMax(forecasting_result,testX_max, testX_min)\n",
        "print(\"A :\",forecasting_result)\n",
        "estimated = forecasting_result\n",
        "#print(estimated)"
      ],
      "metadata": {
        "id": "DZeRPoXq57sw"
      },
      "execution_count": null,
      "outputs": []
    },
    {
      "cell_type": "code",
      "source": [
        "real = ar_test_data_Y_testify_original\n",
        "reals = real[2 : forecasting_time + 2]\n",
        "plt.figure()\n",
        "plt.plot(reals, label = \"Real\")\n",
        "plt.legend(prop = {'size':10})\n",
        "\n",
        "plt.figure()\n",
        "plt.plot(estimated[:len(estimated)],label = \"Forecasted by LSTM\")\n",
        "plt.legend(prop = {'size':10})\n",
        "print(\"Real : \",reals)\n",
        "print(\"Foreacsting : \",estimated)\n",
        "\n",
        "error = estimated - reals\n",
        "plt.figure()\n",
        "plt.plot(error,label = \"Error\")\n",
        "plt.legend(prop = {'size':10})"
      ],
      "metadata": {
        "id": "xCFcNhVi6oFm"
      },
      "execution_count": null,
      "outputs": []
    }
  ]
}