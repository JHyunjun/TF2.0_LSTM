{
  "nbformat": 4,
  "nbformat_minor": 0,
  "metadata": {
    "colab": {
      "name": "LSTM_6I1O.ipynb",
      "private_outputs": true,
      "provenance": [],
      "collapsed_sections": [],
      "mount_file_id": "1KTU39bbyyjFzBev1-3rdtbZ2Oj9DwASJ",
      "authorship_tag": "ABX9TyPByijngCTFfwzuYZEFUNXe",
      "include_colab_link": true
    },
    "kernelspec": {
      "name": "python3",
      "display_name": "Python 3"
    },
    "language_info": {
      "name": "python"
    },
    "accelerator": "GPU",
    "gpuClass": "standard"
  },
  "cells": [
    {
      "cell_type": "markdown",
      "metadata": {
        "id": "view-in-github",
        "colab_type": "text"
      },
      "source": [
        "<a href=\"https://colab.research.google.com/github/JHyunjun/TF2.0_Long-Short-Term-Memory/blob/main/LSTM_6I1O.ipynb\" target=\"_parent\"><img src=\"https://colab.research.google.com/assets/colab-badge.svg\" alt=\"Open In Colab\"/></a>"
      ]
    },
    {
      "cell_type": "code",
      "execution_count": null,
      "metadata": {
        "id": "pjjjxdvCkIVs"
      },
      "outputs": [],
      "source": [
        "import numpy as np\n",
        "import pandas as pd\n",
        "import tensorflow as tf\n",
        "import matplotlib.pyplot as plt\n",
        "\n",
        "tf.random.set_seed(777)\n",
        "\n",
        "df_train = pd.read_csv('/content/drive/MyDrive/Colab Notebooks/Data/The2_MAX.txt')\n",
        "print(\"Train.shape : \",df_train.shape)\n",
        "train_data = df_train.iloc[:,:]\n",
        "print(train_data)\n"
      ]
    },
    {
      "cell_type": "code",
      "source": [
        "def MinMaxScaler(data) : \n",
        "  denom = np.max(data,0) - np.min(data,0)\n",
        "  nume = data - np.min(data,0)\n",
        "  return nume/denom\n",
        "\n",
        "def back_MinMax(data,max,min) : \n",
        "  diff = max - min\n",
        "  back = data * diff + min\n",
        "  return back\n"
      ],
      "metadata": {
        "id": "91i8iYj5tZkv"
      },
      "execution_count": null,
      "outputs": []
    },
    {
      "cell_type": "code",
      "source": [
        "seqLength = 3\n",
        "dataDim = df_train.shape[1]\n",
        "outputDim = 1\n",
        "hiddenDim = 100\n",
        "iterations = 10\n",
        "lr = 0.001\n",
        "batch_size = 64\n",
        "\n",
        "trainSize = int(len(train_data))\n",
        "trainSet = train_data[0:trainSize]\n",
        "trainSet_for_result = trainSet\n",
        "\n",
        "trainSet_max = np.max(trainSet)\n",
        "trainSet_min = np.min(trainSet)\n",
        "\n",
        "trainSet = MinMaxScaler(trainSet)\n",
        "\n",
        "print(trainSet)\n",
        "print(trainSet.shape)"
      ],
      "metadata": {
        "id": "8nGLCEMMto5g"
      },
      "execution_count": null,
      "outputs": []
    },
    {
      "cell_type": "code",
      "source": [
        "trainSet_1 = trainSet.iloc[:60000, :]\n",
        "testSet_1 = trainSet.iloc[60000:, :]\n",
        "\n",
        "def sliding_window(time_series, seq_length) : \n",
        "  dataX = []\n",
        "  dataY = []\n",
        "  for i in range(0, len(time_series) - seq_length) : \n",
        "    _x = time_series.iloc[i:i + seq_length, : -1]\n",
        "    _y = time_series.iloc[i+ seq_length, -1]\n",
        "    dataX.append(_x)\n",
        "    dataY.append(_y)\n",
        "\n",
        "  return np.array(dataX), np.array(dataY)\n",
        "\n",
        "trainX, trainY = sliding_window(trainSet_1, seqLength)\n",
        "testX, testY = sliding_window(testSet_1, seqLength)\n",
        "\n",
        "print(trainX.shape)\n",
        "print(trainY.shape)\n",
        "print(testX.shape)\n",
        "print(testY.shape)"
      ],
      "metadata": {
        "id": "Cw1yQs3LuaHP"
      },
      "execution_count": null,
      "outputs": []
    },
    {
      "cell_type": "code",
      "source": [
        "from tensorflow import keras\n",
        "from tensorflow.keras import layers\n",
        "\n",
        "initializer = tf.keras.initializers.GlorotNormal()\n",
        "input_dim = 6\n",
        "output_dim = 1\n",
        "model = keras.Sequential()\n",
        "model.add(layers.LSTM(units = hiddenDim, activation = 'tanh', input_shape = (seqLength, input_dim), return_sequences = True, kernel_initializer = initializer))\n",
        "model.add(layers.LSTM(units = hiddenDim, activation = 'tanh', return_sequences = True, kernel_initializer = initializer))\n",
        "model.add(layers.Dense(output_dim, activation = 'sigmoid'))\n",
        "adam = keras.optimizers.Adam(lr = lr)\n",
        "model.compile(optimizer = adam, loss = 'mse')\n",
        "model.summary()\n"
      ],
      "metadata": {
        "id": "4Ga4-UZRwiTv"
      },
      "execution_count": null,
      "outputs": []
    },
    {
      "cell_type": "code",
      "source": [
        "print(\"train X : \",trainX.shape)\n",
        "print(\"train Y : \",trainY.shape)\n",
        "print(\"input_dim : \",input_dim)"
      ],
      "metadata": {
        "id": "IPr9DSgtxFTe"
      },
      "execution_count": null,
      "outputs": []
    },
    {
      "cell_type": "code",
      "source": [
        "hist = model.fit(trainX, trainY, epochs = 5, batch_size = batch_size)"
      ],
      "metadata": {
        "id": "7Kd8brbKxLbu"
      },
      "execution_count": null,
      "outputs": []
    },
    {
      "cell_type": "code",
      "source": [
        "xhat = testX\n",
        "yhat = model.predict(xhat)\n",
        "\n",
        "print(\"xhat : \",xhat.shape)\n",
        "print(\"yhat : \",yhat.shape)\n",
        "\n",
        "print(\"testY : \",testY.shape)"
      ],
      "metadata": {
        "id": "9bBvWphuxOs-"
      },
      "execution_count": null,
      "outputs": []
    },
    {
      "cell_type": "code",
      "source": [
        "xhat = testX\n",
        "xhat_train = trainX\n",
        "yhat = model.predict(xhat)\n",
        "yhat_train = model.predict(xhat_train)\n",
        "\n",
        "print(\"Estimated.shape : \",yhat.shape, type(yhat))\n",
        "print(\"Real.shape : \", testY.shape, type(testY))\n",
        "\n",
        "plt.figure()\n",
        "plt.plot(yhat[:len(yhat)], label = \"Estimated by Stacked LSTM\")\n",
        "plt.plot(testY[:len(testY)], label = \"Real\")\n",
        "plt.legend(prop = {'size' : 10})\n",
        "\n",
        "print(yhat)"
      ],
      "metadata": {
        "id": "pwAOC2qqxVV2"
      },
      "execution_count": null,
      "outputs": []
    },
    {
      "cell_type": "code",
      "source": [
        ""
      ],
      "metadata": {
        "id": "u9_P0w4gyTfo"
      },
      "execution_count": null,
      "outputs": []
    }
  ]
}