{
  "nbformat": 4,
  "nbformat_minor": 0,
  "metadata": {
    "colab": {
      "name": "LSTM_tf2.0 (4).ipynb",
      "private_outputs": true,
      "provenance": [],
      "collapsed_sections": [],
      "mount_file_id": "1mzz2HpxXq1dA75eH6w8Kmk7bm-jJt_qn",
      "authorship_tag": "ABX9TyOZ1J79R3GG+COH5x4sebEC",
      "include_colab_link": true
    },
    "kernelspec": {
      "name": "python3",
      "display_name": "Python 3"
    },
    "language_info": {
      "name": "python"
    },
    "accelerator": "GPU"
  },
  "cells": [
    {
      "cell_type": "markdown",
      "metadata": {
        "id": "view-in-github",
        "colab_type": "text"
      },
      "source": [
        "<a href=\"https://colab.research.google.com/github/JHyunjun/TF2.0_LSTM/blob/main/LSTM_tf2_0_forecasting.ipynb\" target=\"_parent\"><img src=\"https://colab.research.google.com/assets/colab-badge.svg\" alt=\"Open In Colab\"/></a>"
      ]
    },
    {
      "cell_type": "code",
      "execution_count": null,
      "metadata": {
        "id": "44UfphRUC9Gb"
      },
      "outputs": [],
      "source": [
        "# Created by Hyunjun, JANG\n",
        "# limitsinx.tistory.com\n",
        "\n",
        "import numpy as np\n",
        "import pandas as pd\n",
        "import tensorflow as tf\n",
        "import pandas_datareader.data as pdr\n",
        "import matplotlib.pyplot as plt\n",
        "import datetime\n",
        "tf.random.set_seed(1)\n",
        "\n",
        "\n",
        "#Data Load\n",
        "df_train = pd.read_csv('/content/drive/MyDrive/Colab Notebooks/Data/Batt/test_v.txt')\n",
        "df_test = pd.read_csv('/content/drive/MyDrive/Colab Notebooks/Data/Batt/train_v.txt')\n",
        "train_data = df_train.iloc[:,:]\n",
        "test_data = df_test.iloc[:,:]\n",
        "print(train_data)\n",
        "print(test_data)"
      ]
    },
    {
      "cell_type": "code",
      "source": [
        "from google.colab import drive\n",
        "drive.mount('/content/drive')"
      ],
      "metadata": {
        "id": "NzLNP7qANctb"
      },
      "execution_count": null,
      "outputs": []
    },
    {
      "cell_type": "code",
      "source": [
        "#Normalization\n",
        "def MinMaxScaler(data):\n",
        "  denom = np.max(data,0) - np.min(data,0)\n",
        "  nume = data-np.min(data,0)\n",
        "  return nume/denom\n",
        "\n",
        "def back_MinMax(data,max,min):\n",
        "  diff = max-min\n",
        "  back = data * diff + min\n",
        "  return back"
      ],
      "metadata": {
        "id": "3gxSIbYyEi6c"
      },
      "execution_count": null,
      "outputs": []
    },
    {
      "cell_type": "code",
      "source": [
        "#Hyper parameters\n",
        "seqLength = 60\n",
        "dataDim = df_test.shape[1]\n",
        "outputDim = 1\n",
        "hiddenDim = 100\n",
        "lr = 0.001\n",
        "iterations = 30\n",
        "batch_size = 32\n",
        "\n",
        "trainSize = int(len(train_data))\n",
        "trainSet = train_data[0:trainSize]\n",
        "testSize = int(len(test_data))\n",
        "testSet = test_data[0:testSize]\n",
        "trainSet_for_result = trainSet\n",
        "testSet_for_result = testSet\n",
        "\n",
        "trainSet_max = np.max(trainSet)\n",
        "trainSet_min = np.min(trainSet)\n",
        "testSet_max = np.max(testSet)\n",
        "testSet_min = np.min(testSet)\n",
        "trainSet_max = (trainSet_max[dataDim-1])\n",
        "trainSet_min = (trainSet_min[dataDim-1])\n",
        "testSet_max = (testSet_max[dataDim-1])\n",
        "testSet_min = (testSet_min[dataDim-1])\n",
        "\n",
        "\n",
        "trainSet = MinMaxScaler(trainSet)\n",
        "testSet = MinMaxScaler(testSet)\n",
        "\n",
        "print(trainSet.shape) # (5807,5)\n",
        "print(testSet.shape) # (10882,5)\n",
        "\n",
        "forecasting = 600"
      ],
      "metadata": {
        "id": "OjbFMLlfE_20"
      },
      "execution_count": null,
      "outputs": []
    },
    {
      "cell_type": "code",
      "source": [
        "#Data Windowing\n",
        "def sliding_window(time_series, seq_length):\n",
        "    dataX = []\n",
        "    dataY = []\n",
        "    for i in range(0, len(time_series) - seq_length - forecasting): \n",
        "        print(i)\n",
        "        _x = time_series.iloc[i:i + seq_length, : -1 ]\n",
        "        _y = time_series.iloc[i + seq_length + forecasting, [-1]]  \n",
        "        print(_x, \"->\", _y)\n",
        "        dataX.append(_x)\n",
        "        dataY.append(_y)\n",
        "    return np.array(dataX), np.array(dataY)\n",
        "\n",
        "trainX, trainY = sliding_window(trainSet, seqLength)\n",
        "print(\"trainY : \",trainY.shape)\n",
        "testX, testY = sliding_window(testSet, seqLength)\n",
        "print(\"testY : \",testY.shape)\n"
      ],
      "metadata": {
        "id": "EA-xTsJLG34M"
      },
      "execution_count": null,
      "outputs": []
    },
    {
      "cell_type": "code",
      "source": [
        "# Stacked LSTM Modeling\n",
        "# Return Sequences is very important for stacking\n",
        "# This means weather output is Sequence of this layer or all of sequences\n",
        "# Activation function \"tanh\" : Glorot normal initializer\n",
        "# Activation function \"reLU\" : He Initiailizer\n",
        "from tensorflow import keras\n",
        "from tensorflow.keras import layers\n",
        "\n",
        "initializer = tf.keras.initializers.GlorotNormal()\n",
        "input_dim = trainSet.shape[1]-1\n",
        "model = keras.Sequential()\n",
        "model.add(layers.LSTM(units = hiddenDim, activation='tanh',input_shape = (seqLength,input_dim), return_sequences = True, kernel_initializer = initializer))\n",
        "model.add(layers.LSTM(units = hiddenDim, activation = 'tanh',return_sequences = True, kernel_initializer = initializer))\n",
        "model.add(layers.LSTM(units = hiddenDim, activation = 'tanh',return_sequences = True, kernel_initializer = initializer))\n",
        "model.add(layers.LSTM(units = hiddenDim, activation = 'tanh',return_sequences = False, kernel_initializer = initializer))\n",
        "model.add(layers.Dense(outputDim, activation='linear'))\n",
        "adam = keras.optimizers.Adam(lr = lr)\n",
        "model.compile(optimizer=adam, loss='mse')\n",
        "model.summary()\n"
      ],
      "metadata": {
        "id": "dpgI1N9ZW1P0"
      },
      "execution_count": null,
      "outputs": []
    },
    {
      "cell_type": "code",
      "source": [
        "# Training\n",
        "hist = model.fit(trainX, trainY, epochs = iterations, batch_size = batch_size)"
      ],
      "metadata": {
        "id": "xjIIZqBue38u"
      },
      "execution_count": null,
      "outputs": []
    },
    {
      "cell_type": "code",
      "source": [
        "# Evaluate Testset\n",
        "testY_forecasting = testY\n",
        "res = model.evaluate(testX, testY, batch_size = batch_size)\n",
        "print(res)\n",
        "#res_batch_size1 = model.evaluate(testX, testY, batch_size = 1) #Very Slow\n"
      ],
      "metadata": {
        "id": "kQ-hAfInm4nL"
      },
      "execution_count": null,
      "outputs": []
    },
    {
      "cell_type": "code",
      "source": [
        "# Estimating\n",
        "xhat = testX\n",
        "yhat = model.predict(xhat)\n",
        "print(testY)\n",
        "print(yhat)\n",
        "\n",
        "print(\"Evaluate : {}\".format(np.sqrt(np.average((yhat - testY)**2))))"
      ],
      "metadata": {
        "id": "zyDqzwynn_I1"
      },
      "execution_count": null,
      "outputs": []
    },
    {
      "cell_type": "code",
      "source": [
        "#Estimating\n",
        "print(\"testY.shape :\", testY.shape)\n",
        "estimated = back_MinMax(yhat,testSet_max,testSet_min) \n",
        "estimated_testY = back_MinMax(testY,testSet_max,testSet_min)\n",
        "\n",
        "real = testSet_for_result.iloc[forecasting+seqLength:,-1] # estimated + seqLength\n",
        "real = real.to_numpy()\n",
        "#real = estimated_testY\n",
        "print(\"estimated.shape : \",estimated.shape) \n",
        "print(\"estimated : \",estimated)\n",
        "\n",
        "print(\"real.shape : \",real.shape) \n",
        "print(\"real : \",real)\n",
        "\n",
        "print(\"estimated_testY.shape : \",estimated_testY.shape)\n",
        "print(\"estimated_testY\",estimated_testY)\n"
      ],
      "metadata": {
        "id": "QQ5woOSHrrmk"
      },
      "execution_count": null,
      "outputs": []
    },
    {
      "cell_type": "code",
      "source": [
        "plt.figure()\n",
        "plt.plot(estimated[:len(estimated)],label = \"Estimated by Stacked LSTM\")\n",
        "plt.plot(real[:len(real)], label = \"Real\")\n",
        "plt.legend(prop = {'size':10})\n",
        "\n",
        "print(\"1120\")"
      ],
      "metadata": {
        "id": "U__JUtnEzkRJ"
      },
      "execution_count": null,
      "outputs": []
    },
    {
      "cell_type": "code",
      "source": [
        "# Evaluate Testset\n",
        "testY_forecasting = testY\n",
        "res2 = model.evaluate(trainX, trainY, batch_size = batch_size)\n",
        "print(res2)\n",
        "\n",
        "xhat = trainX\n",
        "yhat = model.predict(xhat)\n",
        "print(trainY)\n",
        "print(yhat)\n",
        "\n",
        "\n",
        "#res_batch_size1 = model.evaluate(testX, testY, batch_size = 1) #Very Slow\n",
        "#Estimating\n",
        "print(\"testY.shape :\", testY.shape)\n",
        "estimated = back_MinMax(yhat,testSet_max,testSet_min) \n",
        "estimated_testY = back_MinMax(testY,testSet_max,testSet_min)\n",
        "\n",
        "real = trainSet_for_result.iloc[forecasting+seqLength:,-1] # estimated + seqLength\n",
        "real = real.to_numpy()\n",
        "#real = estimated_testY\n",
        "print(\"estimated.shape : \",estimated.shape) \n",
        "print(\"estimated : \",estimated)\n",
        "\n",
        "print(\"real.shape : \",real.shape) \n",
        "print(\"real : \",real)\n",
        "\n",
        "print(\"estimated_testY.shape : \",estimated_testY.shape)\n",
        "print(\"estimated_testY\",estimated_testY)\n",
        "\n",
        "plt.figure()\n",
        "plt.plot(estimated[:len(estimated)],label = \"Estimated by Stacked LSTM\")\n",
        "plt.plot(real[:len(real)], label = \"Real\")\n",
        "plt.legend(prop = {'size':10})\n",
        "\n",
        "print(\"1120\")"
      ],
      "metadata": {
        "id": "464I_1u9alft"
      },
      "execution_count": null,
      "outputs": []
    }
  ]
}