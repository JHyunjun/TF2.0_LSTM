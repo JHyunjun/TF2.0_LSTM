{
  "nbformat": 4,
  "nbformat_minor": 0,
  "metadata": {
    "colab": {
      "name": "LSTM_tf2.0_verification.ipynb",
      "private_outputs": true,
      "provenance": [],
      "collapsed_sections": [],
      "mount_file_id": "1IkCycGeRzBCDiPUM_SZ1BMdw90S2bWjb",
      "authorship_tag": "ABX9TyPBHbWKlKRjTLza9chRqM1u",
      "include_colab_link": true
    },
    "kernelspec": {
      "name": "python3",
      "display_name": "Python 3"
    },
    "language_info": {
      "name": "python"
    },
    "accelerator": "GPU"
  },
  "cells": [
    {
      "cell_type": "markdown",
      "metadata": {
        "id": "view-in-github",
        "colab_type": "text"
      },
      "source": [
        "<a href=\"https://colab.research.google.com/github/JHyunjun/TF2.0_Long-Short-Term-Memory/blob/main/LSTM_tf2_0_verification.ipynb\" target=\"_parent\"><img src=\"https://colab.research.google.com/assets/colab-badge.svg\" alt=\"Open In Colab\"/></a>"
      ]
    },
    {
      "cell_type": "code",
      "execution_count": null,
      "metadata": {
        "id": "44UfphRUC9Gb"
      },
      "outputs": [],
      "source": [
        "# Created by Hyunjun, JANG\n",
        "# limitsinx.tistory.com\n",
        "\n",
        "import numpy as np\n",
        "import pandas as pd\n",
        "import tensorflow as tf\n",
        "import pandas_datareader.data as pdr\n",
        "import matplotlib.pyplot as plt\n",
        "import datetime\n",
        "tf.random.set_seed(1)\n",
        "\n",
        "#length = 1800\n",
        "\n",
        "Start = 2700\n",
        "End = 3600\n",
        "#Data Load\n",
        "df_train = pd.read_csv('/content/drive/MyDrive/Colab Notebooks/GAN/pytorch/Timeseries-GAN/proof/train_veri.txt')\n",
        "df_test = pd.read_csv('/content/drive/MyDrive/Colab Notebooks/GAN/pytorch/Timeseries-GAN/proof/test_veri.txt')\n",
        "train_data = df_train.iloc[Start : End,:].values\n",
        "test_data = df_test.iloc[Start : End,:].values\n",
        "print(train_data.shape)\n",
        "print(train_data)\n",
        "\n",
        "\n",
        "trainSet = train_data\n",
        "testSet = test_data"
      ]
    },
    {
      "cell_type": "code",
      "source": [
        "from google.colab import drive\n",
        "drive.mount('/content/drive')"
      ],
      "metadata": {
        "id": "NzLNP7qANctb"
      },
      "execution_count": null,
      "outputs": []
    },
    {
      "cell_type": "code",
      "source": [
        "#Normalization\n",
        "\n",
        "#print(\"Before Norm : \",train_data_input.shape, train_data_input)\n",
        "#soc_max = 95\n",
        "#soc_min = 70\n",
        "\n",
        "def origin_minmax(data) : \n",
        "  arr_max = np.zeros(data.shape[1])\n",
        "  arr_min = np.zeros(data.shape[1])\n",
        "  print(arr_min)\n",
        "  print(data.shape[1])\n",
        "  for i in range(data.shape[1]) : \n",
        "    #print(i)\n",
        "    max = np.max(data[:,i])\n",
        "    min = np.min(data[:,i]) \n",
        "    #if i == 2 : \n",
        "      #max = soc_max\n",
        "      #min = soc_min\n",
        "    arr_max[i] = max\n",
        "    arr_min[i] = min\n",
        "    pass\n",
        "  return arr_max, arr_min\n",
        "\n",
        "arr_max1, arr_min1 = origin_minmax(trainSet)\n",
        "arr_max2, arr_min2 = origin_minmax(testSet)\n",
        "print(arr_max1, arr_min1)\n",
        "\n",
        "def MinMaxScaler(data):\n",
        "  for i in range(data.shape[1]) : \n",
        "    max = np.max(trainSet[:,i])\n",
        "    min = np.min(trainSet[:,i])\n",
        "    #if i == 2 : \n",
        "      #max = soc_max\n",
        "      #min = soc_min\n",
        "    data[:,i] = (data[:,i] - min) / (max - min + 1e-7)\n",
        "    pass\n",
        "  return data\n",
        "print(testSet.shape)\n",
        "testSet = MinMaxScaler(testSet)\n",
        "trainSet = MinMaxScaler(trainSet)\n",
        "\n",
        "def back_MinMax(data,max,min):\n",
        "  #print(max)\n",
        "  #print(min)\n",
        "  for i in range(data.shape[1]) : \n",
        "    data[:,i] = data[:,i] * (max[i] - min[i]) + min[i]\n",
        "    pass\n",
        "  return data\n",
        "\n",
        "print(\"trainSet : \",arr_max1, arr_min1)\n",
        "print(\"testSet : \",arr_max2, arr_min2)\n",
        "print(\"trainSet : \",trainSet)\n",
        "print(\"testSet : \",testSet)"
      ],
      "metadata": {
        "id": "3gxSIbYyEi6c"
      },
      "execution_count": null,
      "outputs": []
    },
    {
      "cell_type": "code",
      "source": [
        "#Hyper parameters\n",
        "seqLength = 10\n",
        "dataDim = df_test.shape[1]\n",
        "outputDim = 1\n",
        "hiddenDim = 50\n",
        "lr = 0.001\n",
        "iterations = 30\n",
        "batch_size = 32\n",
        "'''\n",
        "trainSize = int(len(train_data))\n",
        "trainSet = train_data[0:trainSize]\n",
        "testSize = int(len(test_data))\n",
        "testSet = test_data[0:testSize]\n",
        "testSet_for_result = testSet\n",
        "\n",
        "trainSet_max = np.max(trainSet)\n",
        "trainSet_min = np.min(trainSet)\n",
        "testSet_max = np.max(testSet)\n",
        "testSet_min = np.min(testSet)\n",
        "trainSet_max = (trainSet_max[dataDim-1])\n",
        "trainSet_min = (trainSet_min[dataDim-1])\n",
        "testSet_max = (testSet_max[dataDim-1])\n",
        "testSet_min = (testSet_min[dataDim-1])\n",
        "\n",
        "\n",
        "trainSet = MinMaxScaler(trainSet)\n",
        "testSet = MinMaxScaler(testSet)\n",
        "\n",
        "print(trainSet.shape) # (5807,5)\n",
        "print(testSet.shape) # (10882,5)\n",
        "'''"
      ],
      "metadata": {
        "id": "OjbFMLlfE_20"
      },
      "execution_count": null,
      "outputs": []
    },
    {
      "cell_type": "code",
      "source": [
        "#Data Windowing\n",
        "def sliding_window(time_series, seq_length):\n",
        "    dataX = []\n",
        "    dataY = []\n",
        "    for i in range(0, time_series.shape[0] - seq_length): \n",
        "        #print(i)\n",
        "        _x = time_series[i:i + seq_length, : -1 ]\n",
        "        _y = time_series[i + seq_length -1, [-1]]  \n",
        "        #print(_x, \"->\", _y)\n",
        "        dataX.append(_x)\n",
        "        dataY.append(_y)\n",
        "    return np.array(dataX), np.array(dataY)\n",
        "\n",
        "trainX, trainY = sliding_window(trainSet, seqLength)\n",
        "testX, testY = sliding_window(testSet, seqLength)\n",
        "\n",
        "print(trainX.shape)\n",
        "print(trainY.shape)\n",
        "\n"
      ],
      "metadata": {
        "id": "EA-xTsJLG34M"
      },
      "execution_count": null,
      "outputs": []
    },
    {
      "cell_type": "code",
      "source": [
        "# Stacked LSTM Modeling\n",
        "# Return Sequences is very important for stacking\n",
        "# This means weather output is Sequence of this layer or all of sequences\n",
        "# Activation function \"tanh\" : Glorot normal initializer\n",
        "# Activation function \"reLU\" : He Initiailizer\n",
        "from tensorflow import keras\n",
        "from tensorflow.keras import layers\n",
        "\n",
        "initializer = tf.keras.initializers.GlorotNormal()\n",
        "input_dim = trainSet.shape[1]-1\n",
        "model = keras.Sequential()\n",
        "model.add(layers.LSTM(units = hiddenDim, activation='ReLU',input_shape = (seqLength,input_dim), return_sequences = True, kernel_initializer = initializer))\n",
        "model.add(layers.LSTM(units = hiddenDim, activation = 'ReLU',return_sequences = True, kernel_initializer = initializer))\n",
        "model.add(layers.LSTM(units = hiddenDim, activation = 'ReLU',return_sequences = True, kernel_initializer = initializer))\n",
        "model.add(layers.LSTM(units = hiddenDim, activation = 'ReLU',return_sequences = False, kernel_initializer = initializer))\n",
        "model.add(layers.Dense(outputDim, activation='linear'))\n",
        "adam = keras.optimizers.Adam(lr = lr)\n",
        "model.compile(optimizer=adam, loss='mse')\n",
        "model.summary()\n"
      ],
      "metadata": {
        "id": "dpgI1N9ZW1P0"
      },
      "execution_count": null,
      "outputs": []
    },
    {
      "cell_type": "code",
      "source": [
        "# Training\n",
        "hist = model.fit(trainX, trainY, epochs = iterations, batch_size = batch_size)"
      ],
      "metadata": {
        "id": "xjIIZqBue38u"
      },
      "execution_count": null,
      "outputs": []
    },
    {
      "cell_type": "code",
      "source": [
        "# Evaluate Testset\n",
        "res = model.evaluate(testX, testY, batch_size = batch_size)\n",
        "print(res)\n",
        "#res_batch_size1 = model.evaluate(testX, testY, batch_size = 1) #Very Slow\n"
      ],
      "metadata": {
        "id": "kQ-hAfInm4nL"
      },
      "execution_count": null,
      "outputs": []
    },
    {
      "cell_type": "code",
      "source": [
        "# Estimating\n",
        "xhat = trainX\n",
        "yhat = model.predict(xhat)\n",
        "#print(testY)\n",
        "#sprint(yhat)\n",
        "#print(\"Evaluate : {}\".format(np.sqrt(np.average((yhat - testY)**2))))"
      ],
      "metadata": {
        "id": "zyDqzwynn_I1"
      },
      "execution_count": null,
      "outputs": []
    },
    {
      "cell_type": "code",
      "source": [
        "#Estimating\n",
        "df_test = pd.read_csv('/content/drive/MyDrive/Colab Notebooks/GAN/pytorch/Timeseries-GAN/proof/train_veri.txt')\n",
        "testSet_for_result = df_test.iloc[Start:End,:].values\n",
        "maxs = np.max(testSet_for_result[:,-1])\n",
        "mins = np.min(testSet_for_result[:,-1])\n",
        "print(maxs,mins)\n",
        "estimated = yhat\n",
        "estimated = yhat*(maxs - mins) + mins\n",
        "trainY = trainY * (maxs - mins) + mins\n",
        "#testSet_for_result = df_test\n",
        "real = df_test.iloc[Start:End,-1] # estimated + seqLength\n",
        "print(\"estimated : \", estimated.shape)\n",
        "print(\"real : \", real.shape)\n",
        "\n",
        "#RMSE\n",
        "Error1 = np.sqrt(np.sum(np.power(trainY/180- estimated/180,2))/len(estimated))\n",
        "print(\"RMSE : \",Error1)\n"
      ],
      "metadata": {
        "id": "QQ5woOSHrrmk"
      },
      "execution_count": null,
      "outputs": []
    },
    {
      "cell_type": "markdown",
      "source": [
        ""
      ],
      "metadata": {
        "id": "qBuFuT_hhAym"
      }
    },
    {
      "cell_type": "code",
      "source": [
        "from pandas._libs.tslibs.conversion import ensure_datetime64ns\n",
        "plt.figure()\n",
        "time1 = 0\n",
        "time2 = 900\n",
        "plt.plot(estimated,label = \"Estimated by Stacked LSTM\")\n",
        "plt.plot(trainY, label = \"Real\")\n",
        "plt.legend(prop = {'size':10})\n",
        "\n",
        "plt.figure()\n",
        "plt.plot(estimated,label = \"Estimated by Stacked LSTM\")\n",
        "plt.legend(prop = {'size':10})\n",
        "\n",
        "plt.figure()\n",
        "plt.plot(trainY, label = \"Real\")\n",
        "plt.legend(prop = {'size':10})\n",
        "\n",
        "print(estimated.shape)\n",
        "print(real.shape)"
      ],
      "metadata": {
        "id": "U__JUtnEzkRJ"
      },
      "execution_count": null,
      "outputs": []
    },
    {
      "cell_type": "code",
      "source": [
        "# Excel Data\n",
        "import pandas as pd\n",
        "\n",
        "#Change the sheet nam4\n",
        "from0_900 = pd.read_excel('/content/drive/MyDrive/Colab Notebooks/GAN/pytorch/Timeseries-GAN/proof/정리3(2700_3600).xlsx', sheet_name = 24, usecols = [0,1,2,4], nrows = 300, header = None, skiprows = 1)\n",
        "print(from0_900.columns)\n",
        "#0,1,2,4 GAN SOC\n",
        "#from0_900 = from0_900[[0,1,7,4]]\n",
        "from0_900 = round(from0_900,1)\n",
        "from0_900 = from0_900.values\n",
        "\n",
        "#Data Windowing\n",
        "def sliding_window(time_series, seq_length):\n",
        "    dataX = []\n",
        "    dataY = []\n",
        "    for i in range(0, time_series.shape[0] - seq_length): \n",
        "        #print(i)\n",
        "        _x = time_series[i:i + seq_length, : -1 ]\n",
        "        _y = time_series[i + seq_length -1, [-1]]  \n",
        "        #print(_x, \"->\", _y)\n",
        "        dataX.append(_x)\n",
        "        dataY.append(_y)\n",
        "    return np.array(dataX), np.array(dataY)\n",
        "\n",
        "print(from0_900)\n",
        "print(from0_900.shape)"
      ],
      "metadata": {
        "id": "D-HSTn8uUgIp"
      },
      "execution_count": null,
      "outputs": []
    },
    {
      "cell_type": "code",
      "source": [
        "def MinMaxScaler_GAN(data):\n",
        "  for i in range(data.shape[1]) : \n",
        "    max = arr_max1[i]\n",
        "    min = arr_min1[i]\n",
        "    data[:,i] = (data[:,i] - min) / (max - min + 1e-7)\n",
        "    pass\n",
        "  return data\n",
        "\n",
        "veri_GAN = MinMaxScaler_GAN(from0_900)\n",
        "print(veri_GAN)\n",
        "\n",
        "test_gan_x, test_gan_y = sliding_window(from0_900, seqLength)\n"
      ],
      "metadata": {
        "id": "p1cAMlyHWdlA"
      },
      "execution_count": null,
      "outputs": []
    },
    {
      "cell_type": "code",
      "source": [
        "xhat_gan = test_gan_x\n",
        "yhat_gan = model.predict(xhat_gan)"
      ],
      "metadata": {
        "id": "nQv7BZZhkiIO"
      },
      "execution_count": null,
      "outputs": []
    },
    {
      "cell_type": "code",
      "source": [
        "yhat_gan = yhat_gan * (arr_max1[-1] - arr_min1[-1]) + arr_min1[-1]\n",
        "test_gan_y = test_gan_y * (arr_max1[-1] - arr_min1[-1]) + arr_min1[-1]\n",
        "print(arr_max1[-1])\n",
        "print(arr_min1[-1])\n",
        "#print(yhat_gan)\n"
      ],
      "metadata": {
        "id": "86I-VTTfl-mt"
      },
      "execution_count": null,
      "outputs": []
    },
    {
      "cell_type": "code",
      "source": [
        "plt.figure()\n",
        "plt.plot(yhat_gan/180,label = \"Reference Voltage\")\n",
        "plt.legend(prop = {'size':10})\n",
        "\n",
        "plt.plot(test_gan_y/180,label = \"Generated Voltage by GAN\")\n",
        "plt.legend(prop = {'size':10})\n",
        "plt.legend(loc = 'upper right')\n",
        "plt.grid()\n",
        "plt.xlabel('Time[sec]')\n",
        "plt.ylabel('Voltage[V]')\n",
        "plt.savefig('/content/drive/MyDrive/Colab Notebooks/GAN/pytorch/Timeseries-GAN/proof/220330/2700to3600/GANSOC_25.png')"
      ],
      "metadata": {
        "id": "CHmGpMB1pO1E"
      },
      "execution_count": null,
      "outputs": []
    },
    {
      "cell_type": "code",
      "source": [
        "#Root Mean Square Error\n",
        "import numpy as np\n",
        "print(yhat_gan.shape)\n",
        "print(test_gan_y.shape)\n",
        "\n",
        "Error = np.sqrt(np.sum(np.power(yhat_gan/180-test_gan_y/180,2))/len(yhat_gan))\n",
        "print(\"Error_GAN : \",Error)\n",
        "print(\"Error_DL model : \",Error1)\n",
        "print(\"RMSE : \",Error-Error1)\n",
        "\n",
        "np.savetxt(\"/content/drive/MyDrive/Colab Notebooks/GAN/pytorch/Timeseries-GAN/proof/220330/yhat_gan\", yhat_gan)"
      ],
      "metadata": {
        "id": "FUDVKNjcpUkl"
      },
      "execution_count": null,
      "outputs": []
    }
  ]
}